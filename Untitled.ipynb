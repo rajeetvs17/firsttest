{
 "cells": [
  {
   "cell_type": "code",
   "execution_count": 2,
   "id": "1edfdc58",
   "metadata": {},
   "outputs": [],
   "source": [
    "data=\"welcome to the data science world\""
   ]
  },
  {
   "cell_type": "code",
   "execution_count": null,
   "id": "0a2943b8",
   "metadata": {},
   "outputs": [],
   "source": []
  }
 ],
 "metadata": {
  "kernelspec": {
   "display_name": "Python 3 (ipykernel)",
   "language": "python",
   "name": "python3"
  },
  "language_info": {
   "codemirror_mode": {
    "name": "ipython",
    "version": 3
   },
   "file_extension": ".py",
   "mimetype": "text/x-python",
   "name": "python",
   "nbconvert_exporter": "python",
   "pygments_lexer": "ipython3",
   "version": "3.10.9"
  }
 },
 "nbformat": 4,
 "nbformat_minor": 5
}
